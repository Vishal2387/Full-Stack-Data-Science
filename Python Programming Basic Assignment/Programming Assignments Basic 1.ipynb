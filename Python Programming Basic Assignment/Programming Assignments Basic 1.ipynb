{
 "cells": [
  {
   "cell_type": "markdown",
   "metadata": {},
   "source": [
    "# Programming Assignment_1"
   ]
  },
  {
   "cell_type": "markdown",
   "metadata": {},
   "source": [
    "1.Write a Python program to print \"Hello Python\"?"
   ]
  },
  {
   "cell_type": "code",
   "execution_count": 1,
   "metadata": {},
   "outputs": [
    {
     "name": "stdout",
     "output_type": "stream",
     "text": [
      "Hello Python\n"
     ]
    }
   ],
   "source": [
    "print(\"Hello Python\")"
   ]
  },
  {
   "cell_type": "markdown",
   "metadata": {},
   "source": [
    "2. Write a Python program to do arithmetical operations addition and division.?"
   ]
  },
  {
   "cell_type": "code",
   "execution_count": 2,
   "metadata": {},
   "outputs": [
    {
     "name": "stdout",
     "output_type": "stream",
     "text": [
      "Enter the number:8\n",
      "Enter the number:2\n",
      "Addition = 10 Division = 4\n"
     ]
    }
   ],
   "source": [
    "a=int(input(\"Enter the number:\"))\n",
    "b=int(input(\"Enter the number:\"))\n",
    "addition_res = a+b\n",
    "div_res = a//b\n",
    "print(\"Addition = {} Division = {}\".format(addition_res , div_res))"
   ]
  },
  {
   "cell_type": "markdown",
   "metadata": {},
   "source": [
    "3. Write a Python program to find the area of a triangle?"
   ]
  },
  {
   "cell_type": "code",
   "execution_count": 3,
   "metadata": {},
   "outputs": [
    {
     "name": "stdout",
     "output_type": "stream",
     "text": [
      "Enter the base:2\n",
      "Enter the height: 4\n",
      "Area of triangle: 4 \n"
     ]
    }
   ],
   "source": [
    "Base = int(input(\"Enter the base:\"))\n",
    "height = int(input(\"Enter the height: \"))\n",
    "Area_triangle = (height*Base)/2\n",
    "print(\"Area of triangle:{} \".format(int(Area_triangle)))"
   ]
  },
  {
   "cell_type": "markdown",
   "metadata": {},
   "source": [
    "4. Write a Python program to swap two variables?"
   ]
  },
  {
   "cell_type": "code",
   "execution_count": 4,
   "metadata": {},
   "outputs": [
    {
     "name": "stdout",
     "output_type": "stream",
     "text": [
      "Enter 1st number:88\n",
      "Enter 2nd number:99\n",
      "Before Swap Var1:88 Var2:99 \n",
      "After Swap Var1:99 Var2:88 \n"
     ]
    }
   ],
   "source": [
    "Var1 = int(input(\"Enter 1st number:\"))\n",
    "Var2 = int(input(\"Enter 2nd number:\"))\n",
    "print(\"Before Swap Var1:{} Var2:{} \".format(Var1 , Var2))\n",
    "Var1,Var2=Var2,Var1\n",
    "print(\"After Swap Var1:{} Var2:{} \".format(Var1 , Var2))"
   ]
  },
  {
   "cell_type": "markdown",
   "metadata": {},
   "source": [
    "5. Write a Python program to generate a random number?"
   ]
  },
  {
   "cell_type": "code",
   "execution_count": 6,
   "metadata": {},
   "outputs": [
    {
     "name": "stdout",
     "output_type": "stream",
     "text": [
      "Enter Min number : 22\n",
      "Enter Max number : 222\n",
      "157\n"
     ]
    }
   ],
   "source": [
    "a=int(input(\"Enter Min number : \"))\n",
    "b=int(input(\"Enter Max number : \"))\n",
    "print(random.randint(a,b))"
   ]
  }
 ],
 "metadata": {
  "kernelspec": {
   "display_name": "Python 3",
   "language": "python",
   "name": "python3"
  },
  "language_info": {
   "codemirror_mode": {
    "name": "ipython",
    "version": 3
   },
   "file_extension": ".py",
   "mimetype": "text/x-python",
   "name": "python",
   "nbconvert_exporter": "python",
   "pygments_lexer": "ipython3",
   "version": "3.8.5"
  }
 },
 "nbformat": 4,
 "nbformat_minor": 4
}
